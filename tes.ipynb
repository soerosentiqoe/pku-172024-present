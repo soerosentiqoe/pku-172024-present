{
 "cells": [
  {
   "cell_type": "code",
   "execution_count": 1,
   "metadata": {},
   "outputs": [],
   "source": [
    "import pandas as pd\n",
    "import numpy as np"
   ]
  },
  {
   "cell_type": "code",
   "execution_count": 2,
   "metadata": {},
   "outputs": [
    {
     "data": {
      "text/html": [
       "<div>\n",
       "<style scoped>\n",
       "    .dataframe tbody tr th:only-of-type {\n",
       "        vertical-align: middle;\n",
       "    }\n",
       "\n",
       "    .dataframe tbody tr th {\n",
       "        vertical-align: top;\n",
       "    }\n",
       "\n",
       "    .dataframe thead th {\n",
       "        text-align: right;\n",
       "    }\n",
       "</style>\n",
       "<table border=\"1\" class=\"dataframe\">\n",
       "  <thead>\n",
       "    <tr style=\"text-align: right;\">\n",
       "      <th></th>\n",
       "      <th>gender</th>\n",
       "      <th>jenjangPekerjaan</th>\n",
       "      <th>durasiPonsel</th>\n",
       "      <th>intensitasSosmed</th>\n",
       "      <th>gangguanTidur</th>\n",
       "      <th>cemasPonselTertinggal</th>\n",
       "      <th>gangguanProduktivitas</th>\n",
       "      <th>kecanduan</th>\n",
       "    </tr>\n",
       "  </thead>\n",
       "  <tbody>\n",
       "    <tr>\n",
       "      <th>0</th>\n",
       "      <td>Laki laki</td>\n",
       "      <td>Mahasiswa</td>\n",
       "      <td>6</td>\n",
       "      <td>Tinggi</td>\n",
       "      <td>Sering</td>\n",
       "      <td>Terkadang</td>\n",
       "      <td>Ya</td>\n",
       "      <td>Ya</td>\n",
       "    </tr>\n",
       "    <tr>\n",
       "      <th>1</th>\n",
       "      <td>Perempuan</td>\n",
       "      <td>Bekerja</td>\n",
       "      <td>8</td>\n",
       "      <td>Tinggi</td>\n",
       "      <td>Sering</td>\n",
       "      <td>Sering</td>\n",
       "      <td>Ya</td>\n",
       "      <td>Ya</td>\n",
       "    </tr>\n",
       "    <tr>\n",
       "      <th>2</th>\n",
       "      <td>Laki laki</td>\n",
       "      <td>Mahasiswa</td>\n",
       "      <td>10</td>\n",
       "      <td>Tinggi</td>\n",
       "      <td>Sering</td>\n",
       "      <td>Sering</td>\n",
       "      <td>Ya</td>\n",
       "      <td>Ya</td>\n",
       "    </tr>\n",
       "    <tr>\n",
       "      <th>3</th>\n",
       "      <td>Perempuan</td>\n",
       "      <td>Bekerja</td>\n",
       "      <td>7</td>\n",
       "      <td>Sedang</td>\n",
       "      <td>Sering</td>\n",
       "      <td>Terkadang</td>\n",
       "      <td>Ya</td>\n",
       "      <td>Ya</td>\n",
       "    </tr>\n",
       "    <tr>\n",
       "      <th>4</th>\n",
       "      <td>Laki laki</td>\n",
       "      <td>Pelajar</td>\n",
       "      <td>5</td>\n",
       "      <td>Rendah</td>\n",
       "      <td>Tidak</td>\n",
       "      <td>Tidak</td>\n",
       "      <td>Tidak</td>\n",
       "      <td>Tidak</td>\n",
       "    </tr>\n",
       "  </tbody>\n",
       "</table>\n",
       "</div>"
      ],
      "text/plain": [
       "      gender jenjangPekerjaan  durasiPonsel intensitasSosmed gangguanTidur  \\\n",
       "0  Laki laki        Mahasiswa             6           Tinggi        Sering   \n",
       "1  Perempuan          Bekerja             8           Tinggi        Sering   \n",
       "2  Laki laki        Mahasiswa            10           Tinggi        Sering   \n",
       "3  Perempuan          Bekerja             7           Sedang        Sering   \n",
       "4  Laki laki          Pelajar             5           Rendah         Tidak   \n",
       "\n",
       "  cemasPonselTertinggal gangguanProduktivitas kecanduan  \n",
       "0             Terkadang                    Ya        Ya  \n",
       "1                Sering                    Ya        Ya  \n",
       "2                Sering                    Ya        Ya  \n",
       "3             Terkadang                    Ya        Ya  \n",
       "4                 Tidak                 Tidak     Tidak  "
      ]
     },
     "execution_count": 2,
     "metadata": {},
     "output_type": "execute_result"
    }
   ],
   "source": [
    "df=pd.read_csv('dataPonsel.csv')\n",
    "df.head()"
   ]
  },
  {
   "cell_type": "code",
   "execution_count": 6,
   "metadata": {},
   "outputs": [],
   "source": [
    "df_copy = df.copy()\n",
    "df_baru=df\n",
    "# Step 2: Define the number of rows you want to add\n",
    "num_rows_to_add = 500\n",
    "new_rows = pd.DataFrame(columns=df.columns)\n",
    "# Step 3: Loop to pick random values and create new rows\n",
    "for _ in range(num_rows_to_add):\n",
    "    # Pick a random value from column 'A'\n",
    "    gender_value = np.random.choice(df_copy['gender'])\n",
    "    pekerjaan=np.random.choice(df_copy['jenjangPekerjaan'])\n",
    "    durasi=np.random.randint(1, 15)\n",
    "    sosmed=np.random.choice(df_copy['intensitasSosmed'])\n",
    "    tidur=np.random.choice(df_copy['gangguanTidur'])\n",
    "    tertinggal=np.random.choice(df_copy['cemasPonselTertinggal'])\n",
    "    produktivitas=np.random.choice(df_copy['gangguanProduktivitas'])\n",
    "    candu=np.random.choice(df_copy['kecanduan'])\n",
    "   \n",
    "    new_row = {'gender': gender_value, 'jenjangPekerjaan': pekerjaan,'durasiPonsel':durasi,'intensitasSosmed':sosmed,'gangguanTidur':tidur,'cemasPonselTertinggal':tertinggal,'gangguanProduktivitas':produktivitas,'kecanduan':candu}\n",
    "    # Append the new row to the DataFrame\n",
    "    new_rows = pd.concat([new_rows, pd.DataFrame([new_row])], ignore_index=True)\n",
    "\n",
    "\n",
    "df_copy = pd.concat([df_copy, new_rows], ignore_index=True)"
   ]
  },
  {
   "cell_type": "code",
   "execution_count": 10,
   "metadata": {},
   "outputs": [],
   "source": [
    "df_copy.to_csv('dataponselnew.csv')"
   ]
  }
 ],
 "metadata": {
  "kernelspec": {
   "display_name": ".venv",
   "language": "python",
   "name": "python3"
  },
  "language_info": {
   "codemirror_mode": {
    "name": "ipython",
    "version": 3
   },
   "file_extension": ".py",
   "mimetype": "text/x-python",
   "name": "python",
   "nbconvert_exporter": "python",
   "pygments_lexer": "ipython3",
   "version": "3.9.13"
  }
 },
 "nbformat": 4,
 "nbformat_minor": 2
}
